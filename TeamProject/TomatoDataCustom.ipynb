{
  "nbformat": 4,
  "nbformat_minor": 0,
  "metadata": {
    "colab": {
      "provenance": [],
      "authorship_tag": "ABX9TyNuY6ZzESdMpwi2Crr+GaPh",
      "include_colab_link": true
    },
    "kernelspec": {
      "name": "python3",
      "display_name": "Python 3"
    },
    "language_info": {
      "name": "python"
    }
  },
  "cells": [
    {
      "cell_type": "markdown",
      "metadata": {
        "id": "view-in-github",
        "colab_type": "text"
      },
      "source": [
        "<a href=\"https://colab.research.google.com/github/sexymonster/Projects/blob/main/TeamProject/TomatoDataCustom.ipynb\" target=\"_parent\"><img src=\"https://colab.research.google.com/assets/colab-badge.svg\" alt=\"Open In Colab\"/></a>"
      ]
    },
    {
      "cell_type": "code",
      "execution_count": 65,
      "metadata": {
        "colab": {
          "base_uri": "https://localhost:8080/"
        },
        "id": "lI2TZLKNno9S",
        "outputId": "2ad6bab7-0f97-411b-dec3-fb6e8cf2f90f"
      },
      "outputs": [
        {
          "output_type": "stream",
          "name": "stdout",
          "text": [
            "Drive already mounted at /content/gdrive; to attempt to forcibly remount, call drive.mount(\"/content/gdrive\", force_remount=True).\n"
          ]
        }
      ],
      "source": [
        "from google.colab import drive\n",
        "import glob,os\n",
        "import pandas as pd\n",
        "import numpy as np\n",
        "\n",
        "drive.mount(\"/content/gdrive\")"
      ]
    },
    {
      "cell_type": "code",
      "source": [
        "path = \"/content/gdrive/MyDrive/tomato/\""
      ],
      "metadata": {
        "id": "o4wFvQwOo_7g"
      },
      "execution_count": 66,
      "outputs": []
    },
    {
      "cell_type": "code",
      "source": [
        "file_list = os.listdir(path)\n",
        "print(file_list)"
      ],
      "metadata": {
        "colab": {
          "base_uri": "https://localhost:8080/"
        },
        "id": "C4xfA931AlmO",
        "outputId": "684ebd94-7e50-47b8-c6f4-4261f631d496"
      },
      "execution_count": 67,
      "outputs": [
        {
          "output_type": "stream",
          "name": "stdout",
          "text": [
            "['2020_0010076_01', '2021_0010056_03', '2019_0010057_01', '2021_0010056_01', '2020_0020738_01', '2021_0010056_02', '2020_0010070_01', '2020_0010057_01', '2019_0010071_01', '2021_0010070_01', '2021_0020738_01', '2021_0010071_01', '2021_0010076_01', '2021_0010071_02', '2021_0020760_01']\n"
          ]
        }
      ]
    },
    {
      "cell_type": "code",
      "source": [
        "def dataset(file, path=path):\n",
        "  try:\n",
        "    live = pd.read_excel(path + file+ \"/방울토마토_생육정보_일별.xlsx\")\n",
        "    live = live.rename(columns = live.iloc[0])\n",
        "    live = live.drop(live.index[0])\n",
        "  except:\n",
        "    pass\n",
        "\n",
        "  ctrl = pd.read_excel(path + file+ \"/방울토마토_제어정보_일별.xlsx\")\n",
        "  ctrl = ctrl.rename(columns = ctrl.iloc[0])\n",
        "  ctrl = ctrl.drop(ctrl.index[0])\n",
        "\n",
        "  env = pd.read_excel(path + file+ \"/방울토마토_환경정보_일별.xlsx\")\n",
        "  env = env.rename(columns = env.iloc[0])\n",
        "  env = env.drop(env.index[0])\n",
        "  env = env.drop(env.columns[[3,5,6,9,10,11,13,14,19]], axis = 1)\n",
        "\n",
        "  try:\n",
        "    return live, ctrl, env\n",
        "  except:\n",
        "    return ctrl,env"
      ],
      "metadata": {
        "id": "RUWUMSSI26mn"
      },
      "execution_count": 68,
      "outputs": []
    },
    {
      "cell_type": "code",
      "source": [],
      "metadata": {
        "id": "bM0Wv_sPAeMi"
      },
      "execution_count": null,
      "outputs": []
    },
    {
      "cell_type": "code",
      "source": [
        "# 모든 데이터 불러오기\n",
        "file_list = os.listdir(path)\n",
        "\n",
        "i = 1\n",
        "\n",
        "for file in file_list:\n",
        "  try:\n",
        "    globals()[\"live\"+str(i)], globals()[\"ctrl\"+str(i)], globals()[\"env\"+str(i)]  = dataset(file,path)\n",
        "  except:\n",
        "    globals()[\"ctrl\"+str(i)], globals()[\"env\"+str(i)]  = dataset(file,path)\n",
        "\n",
        "  i += 1\n",
        "print(i-1, '개의 농장 데이터가 있습니다.')"
      ],
      "metadata": {
        "colab": {
          "base_uri": "https://localhost:8080/"
        },
        "id": "dErmcjAf6KCd",
        "outputId": "4477d678-556e-48d2-e69e-8e6efebbc798"
      },
      "execution_count": 70,
      "outputs": [
        {
          "output_type": "stream",
          "name": "stdout",
          "text": [
            "15 개의 농장 데이터가 있습니다.\n"
          ]
        }
      ]
    },
    {
      "cell_type": "code",
      "source": [
        "# 유효한 컬럼 추출 (nan값 개수가 1/3 이하인 컬럼)\n",
        "def effcolm(df):\n",
        "  effective = []\n",
        "  columns = list(df)\n",
        "  print(len(columns))\n",
        "  for column in columns:\n",
        "    num_nan = df.column.isnull().sum()\n",
        "    print(num_nan)\n",
        "    if num_nan < len(df.column)/3:\n",
        "      effective.append(column)\n",
        "      print(effective)\n",
        "  \n"
      ],
      "metadata": {
        "id": "mGkHrDtjE666"
      },
      "execution_count": 91,
      "outputs": []
    },
    {
      "cell_type": "code",
      "source": [
        "effcolm(ctrl1)"
      ],
      "metadata": {
        "colab": {
          "base_uri": "https://localhost:8080/",
          "height": 342
        },
        "id": "OoiTTPnkM6ci",
        "outputId": "d8113c8c-6364-4c51-c1a0-52da929c2a0a"
      },
      "execution_count": 92,
      "outputs": [
        {
          "output_type": "stream",
          "name": "stdout",
          "text": [
            "25\n"
          ]
        },
        {
          "output_type": "error",
          "ename": "AttributeError",
          "evalue": "ignored",
          "traceback": [
            "\u001b[0;31m---------------------------------------------------------------------------\u001b[0m",
            "\u001b[0;31mAttributeError\u001b[0m                            Traceback (most recent call last)",
            "\u001b[0;32m<ipython-input-92-3a85f7a6e265>\u001b[0m in \u001b[0;36m<module>\u001b[0;34m\u001b[0m\n\u001b[0;32m----> 1\u001b[0;31m \u001b[0meffcolm\u001b[0m\u001b[0;34m(\u001b[0m\u001b[0mctrl1\u001b[0m\u001b[0;34m)\u001b[0m\u001b[0;34m\u001b[0m\u001b[0;34m\u001b[0m\u001b[0m\n\u001b[0m",
            "\u001b[0;32m<ipython-input-91-f9f934cc9f52>\u001b[0m in \u001b[0;36meffcolm\u001b[0;34m(df)\u001b[0m\n\u001b[1;32m      5\u001b[0m   \u001b[0mprint\u001b[0m\u001b[0;34m(\u001b[0m\u001b[0mlen\u001b[0m\u001b[0;34m(\u001b[0m\u001b[0mcolumns\u001b[0m\u001b[0;34m)\u001b[0m\u001b[0;34m)\u001b[0m\u001b[0;34m\u001b[0m\u001b[0;34m\u001b[0m\u001b[0m\n\u001b[1;32m      6\u001b[0m   \u001b[0;32mfor\u001b[0m \u001b[0mcolumn\u001b[0m \u001b[0;32min\u001b[0m \u001b[0mcolumns\u001b[0m\u001b[0;34m:\u001b[0m\u001b[0;34m\u001b[0m\u001b[0;34m\u001b[0m\u001b[0m\n\u001b[0;32m----> 7\u001b[0;31m     \u001b[0mnum_nan\u001b[0m \u001b[0;34m=\u001b[0m \u001b[0mdf\u001b[0m\u001b[0;34m.\u001b[0m\u001b[0mcolumn\u001b[0m\u001b[0;34m.\u001b[0m\u001b[0misnull\u001b[0m\u001b[0;34m(\u001b[0m\u001b[0;34m)\u001b[0m\u001b[0;34m.\u001b[0m\u001b[0msum\u001b[0m\u001b[0;34m(\u001b[0m\u001b[0;34m)\u001b[0m\u001b[0;34m\u001b[0m\u001b[0;34m\u001b[0m\u001b[0m\n\u001b[0m\u001b[1;32m      8\u001b[0m     \u001b[0mprint\u001b[0m\u001b[0;34m(\u001b[0m\u001b[0mnum_nan\u001b[0m\u001b[0;34m)\u001b[0m\u001b[0;34m\u001b[0m\u001b[0;34m\u001b[0m\u001b[0m\n\u001b[1;32m      9\u001b[0m     \u001b[0;32mif\u001b[0m \u001b[0mnum_nan\u001b[0m \u001b[0;34m<\u001b[0m \u001b[0mlen\u001b[0m\u001b[0;34m(\u001b[0m\u001b[0mdf\u001b[0m\u001b[0;34m.\u001b[0m\u001b[0mcolumn\u001b[0m\u001b[0;34m)\u001b[0m\u001b[0;34m/\u001b[0m\u001b[0;36m3\u001b[0m\u001b[0;34m:\u001b[0m\u001b[0;34m\u001b[0m\u001b[0;34m\u001b[0m\u001b[0m\n",
            "\u001b[0;32m/usr/local/lib/python3.7/dist-packages/pandas/core/generic.py\u001b[0m in \u001b[0;36m__getattr__\u001b[0;34m(self, name)\u001b[0m\n\u001b[1;32m   5485\u001b[0m         ):\n\u001b[1;32m   5486\u001b[0m             \u001b[0;32mreturn\u001b[0m \u001b[0mself\u001b[0m\u001b[0;34m[\u001b[0m\u001b[0mname\u001b[0m\u001b[0;34m]\u001b[0m\u001b[0;34m\u001b[0m\u001b[0;34m\u001b[0m\u001b[0m\n\u001b[0;32m-> 5487\u001b[0;31m         \u001b[0;32mreturn\u001b[0m \u001b[0mobject\u001b[0m\u001b[0;34m.\u001b[0m\u001b[0m__getattribute__\u001b[0m\u001b[0;34m(\u001b[0m\u001b[0mself\u001b[0m\u001b[0;34m,\u001b[0m \u001b[0mname\u001b[0m\u001b[0;34m)\u001b[0m\u001b[0;34m\u001b[0m\u001b[0;34m\u001b[0m\u001b[0m\n\u001b[0m\u001b[1;32m   5488\u001b[0m \u001b[0;34m\u001b[0m\u001b[0m\n\u001b[1;32m   5489\u001b[0m     \u001b[0;32mdef\u001b[0m \u001b[0m__setattr__\u001b[0m\u001b[0;34m(\u001b[0m\u001b[0mself\u001b[0m\u001b[0;34m,\u001b[0m \u001b[0mname\u001b[0m\u001b[0;34m:\u001b[0m \u001b[0mstr\u001b[0m\u001b[0;34m,\u001b[0m \u001b[0mvalue\u001b[0m\u001b[0;34m)\u001b[0m \u001b[0;34m->\u001b[0m \u001b[0;32mNone\u001b[0m\u001b[0;34m:\u001b[0m\u001b[0;34m\u001b[0m\u001b[0;34m\u001b[0m\u001b[0m\n",
            "\u001b[0;31mAttributeError\u001b[0m: 'DataFrame' object has no attribute 'column'"
          ]
        }
      ]
    },
    {
      "cell_type": "code",
      "source": [
        "class CustomDataset:\n",
        "\n",
        "  def __init__(self, file, path =path):\n",
        "    self.path = path\n",
        "    self.file = file\n",
        "\n",
        "    live = pd.read_excel(self.path + self.file+ \"/방울토마토_생육정보_일별.xlsx\")\n",
        "    ctrl = pd.read_excel(self.path + self.file+ \"/방울토마토_제어정보_일별.xlsx\")\n",
        "    env = pd.read_excel(self.path + self.file+ \"/방울토마토_환경정보_일별.xlsx\")\n",
        "\n",
        "  def pre_pro(self):\n",
        "\n",
        "    self.live = self.live.rename(columns=self.live.iloc[0])\n",
        "    self.live = self.live.drop(live.index[0])\n",
        "    live = self.live\n",
        "    \n",
        "    return live\n"
      ],
      "metadata": {
        "id": "0Wo1fV94pMnj"
      },
      "execution_count": 6,
      "outputs": []
    },
    {
      "cell_type": "code",
      "source": [],
      "metadata": {
        "id": "kZzWVVfs5JnD"
      },
      "execution_count": null,
      "outputs": []
    }
  ]
}